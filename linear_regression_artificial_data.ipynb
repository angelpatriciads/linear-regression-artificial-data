{
  "nbformat": 4,
  "nbformat_minor": 0,
  "metadata": {
    "colab": {
      "provenance": [],
      "collapsed_sections": [
        "H0stwsckI-bv",
        "iKgkFkHhJAOU",
        "6-1ruSoeJCOd",
        "LRld-2IsLmjm",
        "AWbRI02o1DMt",
        "Deqtdn8LTzzK"
      ]
    },
    "kernelspec": {
      "name": "python3",
      "display_name": "Python 3"
    },
    "language_info": {
      "name": "python"
    }
  },
  "cells": [
    {
      "cell_type": "code",
      "source": [
        "#import modul\n",
        "import numpy as np\n",
        "import matplotlib.pyplot as plt\n",
        "import pandas as pd\n",
        "import sympy as sp\n",
        "from sklearn import linear_model\n",
        "from sympy import *                                                        \n",
        "from sympy import symbols       \n",
        "from sympy.abc import x,y                             \n",
        "\n",
        "#Data Artifisial\n",
        "a, b = 5, -5\n",
        "df_x = np.random.rand(20)\n",
        "df_y = a*df_x+b+np.random.rand(20)\n",
        "n = len(df_x)                            #banyak data\n",
        "\n",
        "#Hitung Intercept dan Coefficient Manual\n",
        "sumx=sum(df_x)\n",
        "sumy=sum(df_y)\n",
        "sumxy=sum(df_x*df_y)\n",
        "sumx_square=sum(df_x**2)\n",
        "a=(sumy*sumx_square-sumx*sumxy)/(n*sumx_square-(sumx)**2)\n",
        "b=(n*sumxy-sumx*sumy)/(n*sumx_square-(sumx)**2)\n",
        "print('Intercept Manual: ',a)\n",
        "print('Coefficients Manual: ',b)\n",
        "\n",
        "#menhitung rmse\n",
        "predict_ymanual = b*df_x+a\n",
        "MSE = np.square(np.subtract(df_y,predict_ymanual)).mean()\n",
        "RMSE = np.sqrt(MSE)\n",
        "print(\"RMSE : \", RMSE)\n",
        "print(\"Fungsi Regresi yang didapat: \\n\")\n",
        "intr=float(a)\n",
        "coef=float(b) \n",
        "display(Eq(y, intr*x+coef, evaluate=True))\n",
        "print(\"\")\n",
        "#Hitung Itercept dan Coefficient menggunakan modul sklearn\n",
        "regr = linear_model.LinearRegression() #definisikan model regresi linier dengan nama 'regr'\n",
        "data_x = np.array(df_x).reshape(-1, 1)\n",
        "data_y = np.array(df_y)\n",
        "\n",
        "#fit data ke model regr\n",
        "regr.fit(data_x, data_y)\n",
        "#output koefisien dan intersepnya\n",
        "print('Intercept Using Sklearn: ', regr.intercept_)\n",
        "print('Coefficients Using Sklearn: ', regr.coef_)\n",
        "#menghitung RMSE\n",
        "predict_y = regr.predict(data_x)\n",
        "MSE = np.square(np.subtract(data_y,predict_y)).mean()\n",
        "RMSE = np.sqrt(MSE)\n",
        "print(\"RMSE : \", RMSE)\n",
        "print(\"Fungsi Regresi yang didapat: \\n\")\n",
        "intr=float(regr.intercept_)\n",
        "coef=float(regr.coef_[0]) \n",
        "display(Eq(y, intr*x+coef, evaluate=True))\n",
        "\n",
        "#plotting graf\n",
        "fig, ax = plt.subplots(1,2, figsize=(15,5))\n",
        "ax[0].scatter(df_x,df_y,color='blue')\n",
        "ax[0].plot(df_x, b*df_x + a, 'r')\n",
        "ax[0].set_title('Linear Regression Manual')\n",
        "ax[1].scatter(df_x,df_y,color='blue')\n",
        "ax[1].plot(data_x, regr.coef_[0]*data_x + regr.intercept_, '-r')\n",
        "ax[1].set_title('Linear Regression Sklearn')\n",
        "plt.xlabel('x')\n",
        "plt.ylabel('y')\n",
        "plt.show()\n",
        "\n"
      ],
      "metadata": {
        "colab": {
          "base_uri": "https://localhost:8080/"
        },
        "id": "rMlmQ-kahNbc",
        "outputId": "cd5a5c08-99fd-410d-9e7e-6da704211f08"
      },
      "execution_count": null,
      "outputs": [
        {
          "output_type": "stream",
          "name": "stdout",
          "text": [
            "Intercept Manual:  -4.516156665581743\n",
            "Coefficients Manual:  4.995481976792833\n",
            "RMSE :  0.24096309967844998\n",
            "Fungsi Regresi yang didapat: \n",
            "\n"
          ]
        },
        {
          "output_type": "display_data",
          "data": {
            "text/plain": [
              "Eq(y, 4.99548197679283 - 4.51615666558174*x)"
            ],
            "text/latex": "$\\displaystyle y = 4.99548197679283 - 4.51615666558174 x$"
          },
          "metadata": {}
        },
        {
          "output_type": "stream",
          "name": "stdout",
          "text": [
            "\n",
            "Intercept Using Sklearn:  -4.516156665581745\n",
            "Coefficients Using Sklearn:  [4.99548198]\n",
            "RMSE :  0.24096309967844998\n",
            "Fungsi Regresi yang didapat: \n",
            "\n"
          ]
        },
        {
          "output_type": "display_data",
          "data": {
            "text/plain": [
              "Eq(y, 4.99548197679284 - 4.51615666558174*x)"
            ],
            "text/latex": "$\\displaystyle y = 4.99548197679284 - 4.51615666558174 x$"
          },
          "metadata": {}
        },
        {
          "output_type": "display_data",
          "data": {
            "text/plain": [
              "<Figure size 1080x360 with 2 Axes>"
            ],
            "image/png": "[encoded data removed]"
          },
          "metadata": {
            "needs_background": "light"
          }
        }
      ]
    }
  ]
}